{
 "cells": [
  {
   "cell_type": "code",
   "execution_count": 1,
   "metadata": {
    "collapsed": false
   },
   "outputs": [
    {
     "name": "stdout",
     "output_type": "stream",
     "text": [
      "[Parse(word='лаксми', tag=OpencorporaTag('NOUN,inan,GNdr,Pltm,Fixd plur,nomn'), normal_form='лаксми', score=0.16666666666666666, methods_stack=((<DictionaryAnalyzer>, 'сми', 442, 0), (<UnknownPrefixAnalyzer>, 'лак'))), Parse(word='лаксми', tag=OpencorporaTag('NOUN,inan,GNdr,Pltm,Fixd plur,gent'), normal_form='лаксми', score=0.16666666666666666, methods_stack=((<DictionaryAnalyzer>, 'сми', 442, 1), (<UnknownPrefixAnalyzer>, 'лак'))), Parse(word='лаксми', tag=OpencorporaTag('NOUN,inan,GNdr,Pltm,Fixd plur,datv'), normal_form='лаксми', score=0.16666666666666666, methods_stack=((<DictionaryAnalyzer>, 'сми', 442, 2), (<UnknownPrefixAnalyzer>, 'лак'))), Parse(word='лаксми', tag=OpencorporaTag('NOUN,inan,GNdr,Pltm,Fixd plur,accs'), normal_form='лаксми', score=0.16666666666666666, methods_stack=((<DictionaryAnalyzer>, 'сми', 442, 3), (<UnknownPrefixAnalyzer>, 'лак'))), Parse(word='лаксми', tag=OpencorporaTag('NOUN,inan,GNdr,Pltm,Fixd plur,ablt'), normal_form='лаксми', score=0.16666666666666666, methods_stack=((<DictionaryAnalyzer>, 'сми', 442, 4), (<UnknownPrefixAnalyzer>, 'лак'))), Parse(word='лаксми', tag=OpencorporaTag('NOUN,inan,GNdr,Pltm,Fixd plur,loct'), normal_form='лаксми', score=0.16666666666666666, methods_stack=((<DictionaryAnalyzer>, 'сми', 442, 5), (<UnknownPrefixAnalyzer>, 'лак')))]\n",
      "[Parse(word='лаксмить', tag=OpencorporaTag('NOUN,anim,masc,Name sing,voct,Infr'), normal_form='лаксмитя', score=0.26143790849673204, methods_stack=((<DictionaryAnalyzer>, 'мить', 407, 7), (<UnknownPrefixAnalyzer>, 'лакс'))), Parse(word='лаксмить', tag=OpencorporaTag('NOUN,anim,masc,Name plur,gent'), normal_form='лаксмитя', score=0.26143790849673204, methods_stack=((<DictionaryAnalyzer>, 'мить', 407, 9), (<UnknownPrefixAnalyzer>, 'лакс'))), Parse(word='лаксмить', tag=OpencorporaTag('NOUN,anim,masc,Name plur,accs'), normal_form='лаксмитя', score=0.26143790849673204, methods_stack=((<DictionaryAnalyzer>, 'мить', 407, 11), (<UnknownPrefixAnalyzer>, 'лакс'))), Parse(word='лаксмить', tag=OpencorporaTag('INFN,perf,tran'), normal_form='лаксмить', score=0.21568627450980393, methods_stack=((<FakeDictionary>, 'лаксмить', 455, 0), (<KnownSuffixAnalyzer>, 'мить')))]\n",
      "[Parse(word='лаксмь', tag=OpencorporaTag('VERB,perf,tran sing,impr,excl'), normal_form='лаксмить', score=0.40625, methods_stack=((<FakeDictionary>, 'лаксмь', 753, 13), (<KnownSuffixAnalyzer>, 'мь'))), Parse(word='лаксмь', tag=OpencorporaTag('NOUN,anim,femn,Name plur,gent'), normal_form='лаксмя', score=0.25, methods_stack=((<FakeDictionary>, 'лаксмь', 160, 8), (<KnownSuffixAnalyzer>, 'мь'))), Parse(word='лаксмь', tag=OpencorporaTag('NOUN,anim,femn,Name plur,accs'), normal_form='лаксмя', score=0.25, methods_stack=((<FakeDictionary>, 'лаксмь', 160, 10), (<KnownSuffixAnalyzer>, 'мь'))), Parse(word='лаксмь', tag=OpencorporaTag('ADVB'), normal_form='лаксмь', score=0.09375, methods_stack=((<FakeDictionary>, 'лаксмь', 3, 0), (<KnownSuffixAnalyzer>, 'мь')))]\n",
      "[Parse(word='лаксметь', tag=OpencorporaTag('INFN,impf,intr'), normal_form='лаксметь', score=0.3, methods_stack=((<DictionaryAnalyzer>, 'сметь', 15, 0), (<UnknownPrefixAnalyzer>, 'лак'))), Parse(word='лаксметь', tag=OpencorporaTag('VERB,impf,tran sing,impr,excl'), normal_form='лаксметить', score=0.3, methods_stack=((<DictionaryAnalyzer>, 'меть', 325, 11), (<UnknownPrefixAnalyzer>, 'лакс'))), Parse(word='лаксметь', tag=OpencorporaTag('VERB,impf,intr sing,impr,excl'), normal_form='лаксметить', score=0.3, methods_stack=((<DictionaryAnalyzer>, 'меть', 1940, 11), (<UnknownPrefixAnalyzer>, 'лакс'))), Parse(word='лаксметь', tag=OpencorporaTag('INFN,perf,intr'), normal_form='лаксметь', score=0.09999999999999999, methods_stack=((<FakeDictionary>, 'лаксметь', 715, 0), (<KnownSuffixAnalyzer>, 'сметь')))]\n"
     ]
    }
   ],
   "source": [
    "import pymorphy2\n",
    "\n",
    "morhp = pymorphy2.MorphAnalyzer()\n",
    "texts = [\"ЛАКСМИ\", \"ЛАКСМИТЬ\", \"ЛАКСМЬ\", \"ЛАКСМЕТЬ\"]\n",
    "\n",
    "for word in texts:\n",
    "    print(morhp.parse(word))"
   ]
  }
 ],
 "metadata": {
  "kernelspec": {
   "display_name": "Python 3",
   "language": "python",
   "name": "python3"
  },
  "language_info": {
   "codemirror_mode": {
    "name": "ipython",
    "version": 3
   },
   "file_extension": ".py",
   "mimetype": "text/x-python",
   "name": "python",
   "nbconvert_exporter": "python",
   "pygments_lexer": "ipython3",
   "version": "3.5.1"
  }
 },
 "nbformat": 4,
 "nbformat_minor": 0
}
