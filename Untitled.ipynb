{
 "cells": [
  {
   "cell_type": "code",
   "execution_count": 1,
   "metadata": {
    "collapsed": false
   },
   "outputs": [
    {
     "name": "stdout",
     "output_type": "stream",
     "text": [
      "[2, 0, 1, 2, 2, 0, 1, 0, 1, 1, 0, 0, 1, 1, 2]\n"
     ]
    }
   ],
   "source": [
    "import pymorphy2\n",
    "import numpy as np\n",
    "\n",
    "random_nums = []\n",
    "for i in range(0, 15) :\n",
    "    random_nums.append(int(np.random.uniform(0, 3)))\n",
    "    \n",
    "print(random_nums)"
   ]
  }
 ],
 "metadata": {
  "kernelspec": {
   "display_name": "Python 3",
   "language": "python",
   "name": "python3"
  },
  "language_info": {
   "codemirror_mode": {
    "name": "ipython",
    "version": 3
   },
   "file_extension": ".py",
   "mimetype": "text/x-python",
   "name": "python",
   "nbconvert_exporter": "python",
   "pygments_lexer": "ipython3",
   "version": "3.5.1"
  }
 },
 "nbformat": 4,
 "nbformat_minor": 0
}
